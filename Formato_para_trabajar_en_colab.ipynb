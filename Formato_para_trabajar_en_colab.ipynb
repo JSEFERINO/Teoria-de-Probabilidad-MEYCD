{
  "nbformat": 4,
  "nbformat_minor": 0,
  "metadata": {
    "colab": {
      "provenance": [],
      "authorship_tag": "ABX9TyP0FMVxXcZkMjERmguybAFG",
      "include_colab_link": true
    },
    "kernelspec": {
      "name": "python3",
      "display_name": "Python 3"
    },
    "language_info": {
      "name": "python"
    }
  },
  "cells": [
    {
      "cell_type": "markdown",
      "metadata": {
        "id": "view-in-github",
        "colab_type": "text"
      },
      "source": [
        "<a href=\"https://colab.research.google.com/github/JSEFERINO/Teoria-de-Probabilidad-MEYCD/blob/main/Formato_para_trabajar_en_colab.ipynb\" target=\"_parent\"><img src=\"https://colab.research.google.com/assets/colab-badge.svg\" alt=\"Open In Colab\"/></a>"
      ]
    },
    {
      "cell_type": "markdown",
      "source": [
        "# **Formato para Trabajar en Colab 2025**\n",
        "# **Escribe el Nombre del Curso**\n",
        "## **Escribe tu nombre completo**\n",
        "> Email:\n",
        "\n",
        "> Celular:\n",
        "\n",
        "> Código Estudiantil"
      ],
      "metadata": {
        "id": "bQv8p1MlagUC"
      }
    },
    {
      "cell_type": "markdown",
      "source": [
        "# **Librerias para Trabar en R**"
      ],
      "metadata": {
        "id": "c8T7MKH_fhrm"
      }
    },
    {
      "cell_type": "code",
      "source": [
        "# @title **Librerias para Trabar en R**\n",
        "import rpy2.rinterface_lib.callbacks as rcb\n",
        "import logging\n",
        "\n",
        "# Desactivar warnings de R en Python\n",
        "rcb.logger.setLevel(logging.ERROR)  # Solo muestra errores, no warnings\n",
        "%load_ext rpy2.ipython"
      ],
      "metadata": {
        "id": "HV5na8q9Tra1"
      },
      "execution_count": null,
      "outputs": []
    },
    {
      "cell_type": "markdown",
      "source": [
        "<a name=\"inicio\"></a>\n",
        "\n",
        "\n",
        "## **1.** [](#T1)\n",
        "## **2.** [](#T2)\n",
        "\n",
        "## **3.** [](#T3)\n",
        "\n",
        "## **4.** [](#T4)\n",
        "\n",
        "## **5.** [](#T5)\n",
        "\n",
        "## **6.** [](#T6)\n",
        "\n",
        "## **7.** [](#T7)\n",
        "\n",
        "\n",
        "## **8.** [](#T8)\n",
        "\n",
        "## **9.** [](#T9)\n",
        "\n",
        "\n",
        "## **10.** [](#T10)\n",
        "\n",
        "## **11.** [](#T11)\n",
        "\n",
        "## **12.** [](#T12)\n",
        "\n",
        "## **13.** [](#T13)\n",
        "\n",
        "## **14.** [](#T14)\n",
        "\n",
        "## **15.** [](#T15)\n",
        "\n",
        "## **16.** [](#T16)\n",
        "\n",
        "## **17.** [](#T17)\n",
        "\n",
        "\n",
        "## **18.** [](#T18)\n",
        "\n",
        "## **19.** [](#T19)\n",
        "\n",
        "\n",
        "## **20.** [](#T20)\n",
        "\n",
        "## **21.** [](#T21)\n",
        "\n",
        "## **22.** [](#T22)\n",
        "\n",
        "## **23.** [](#T23)\n",
        "\n",
        "## **24.** [](#T24)\n",
        "\n",
        "## **25.** [](#T25)\n",
        "\n",
        "## **26.** [](#T26)\n",
        "\n",
        "## **27.** [](#T27)\n",
        "\n",
        "\n",
        "## **28.** [](#T28)\n",
        "\n",
        "## **29.** [](#T29)\n",
        "\n",
        "\n",
        "## **30.** [](#T30)\n",
        "\n",
        "## **31.** [](#T31)\n"
      ],
      "metadata": {
        "id": "STyidlRkIiKV"
      }
    },
    {
      "cell_type": "markdown",
      "source": [
        "\n",
        "[ULTIMO](#ULTIMO)"
      ],
      "metadata": {
        "id": "7N7LLmo9j0VE"
      }
    },
    {
      "cell_type": "markdown",
      "source": [
        "[⬆️ Volver al inicio](#inicio)"
      ],
      "metadata": {
        "id": "HPyl0OCkuwaL"
      }
    },
    {
      "cell_type": "markdown",
      "source": [
        "<a name=\"T1\"></a>\n",
        "## **1. **\n"
      ],
      "metadata": {
        "id": "k_Mnx13sTSFE"
      }
    },
    {
      "cell_type": "markdown",
      "source": [
        "[⬆️ Volver al inicio](#inicio)"
      ],
      "metadata": {
        "id": "4CgoxMZx8Bvp"
      }
    },
    {
      "cell_type": "markdown",
      "source": [
        "<a name=\"T2\"></a>\n",
        "## **2. **\n"
      ],
      "metadata": {
        "id": "AY9By8xQhjYX"
      }
    },
    {
      "cell_type": "markdown",
      "source": [
        "[⬆️ Volver al inicio](#inicio)"
      ],
      "metadata": {
        "id": "q8dHWgJ78CI7"
      }
    },
    {
      "cell_type": "markdown",
      "source": [
        "<a name=\"T3\"></a>\n",
        "## **3. **\n"
      ],
      "metadata": {
        "id": "TV6vVNdhU_1u"
      }
    },
    {
      "cell_type": "markdown",
      "source": [
        "[⬆️ Volver al inicio](#inicio)"
      ],
      "metadata": {
        "id": "rAdpvAzE8Ceq"
      }
    },
    {
      "cell_type": "markdown",
      "source": [
        "<a name=\"T4\"></a>\n",
        "## **4. **\n"
      ],
      "metadata": {
        "id": "STODq8evVMYu"
      }
    },
    {
      "cell_type": "markdown",
      "source": [
        "[⬆️ Volver al inicio](#inicio)"
      ],
      "metadata": {
        "id": "DT8Dr2DLuJiU"
      }
    },
    {
      "cell_type": "markdown",
      "source": [
        "<a name=\"T51\"></a>\n",
        "## **5. **\n",
        "\n",
        "\n"
      ],
      "metadata": {
        "id": "XubkVhlBswgv"
      }
    },
    {
      "cell_type": "markdown",
      "source": [
        "[⬆️ Volver al inicio](#inicio)"
      ],
      "metadata": {
        "id": "_yzSz_HKuK3B"
      }
    },
    {
      "cell_type": "markdown",
      "source": [
        "<a name=\"T6\"></a>\n",
        "## **6. **\n"
      ],
      "metadata": {
        "id": "zQNmFZsss0JO"
      }
    },
    {
      "cell_type": "markdown",
      "source": [
        "[⬆️ Volver al inicio](#inicio)"
      ],
      "metadata": {
        "id": "2kNGIUwGuNOQ"
      }
    },
    {
      "cell_type": "markdown",
      "source": [
        "<a name=\"T7\"></a>\n",
        "## **7. **\n",
        "\n",
        "\n"
      ],
      "metadata": {
        "id": "bu3TM72ds4WO"
      }
    },
    {
      "cell_type": "markdown",
      "source": [
        "[⬆️ Volver al inicio](#inicio)"
      ],
      "metadata": {
        "id": "yDKvvV80uOSC"
      }
    },
    {
      "cell_type": "markdown",
      "source": [
        "<a name=\"T7\"></a>\n",
        "## **7. **\n",
        "\n",
        "+"
      ],
      "metadata": {
        "id": "9Y_IRzU8s7tO"
      }
    },
    {
      "cell_type": "markdown",
      "source": [
        "[⬆️ Volver al inicio](#inicio)"
      ],
      "metadata": {
        "id": "_7M9xTdfuPWY"
      }
    },
    {
      "cell_type": "markdown",
      "source": [
        "<a name=\"T8\"></a>\n",
        "## **8. **\n"
      ],
      "metadata": {
        "id": "LgAWgdWOs_Qg"
      }
    },
    {
      "cell_type": "markdown",
      "source": [
        "[⬆️ Volver al inicio](#inicio)"
      ],
      "metadata": {
        "id": "Nx1rwrGzuQ6T"
      }
    },
    {
      "cell_type": "markdown",
      "source": [
        "<a name=\"T9\"></a>\n",
        "## **9. **\n"
      ],
      "metadata": {
        "id": "AApwpQRcIPx7"
      }
    },
    {
      "cell_type": "markdown",
      "source": [
        "[⬆️ Volver al inicio](#inicio)"
      ],
      "metadata": {
        "id": "bPUObNA4JsKV"
      }
    },
    {
      "cell_type": "markdown",
      "source": [
        "<a name=\"T10\"></a>\n",
        "## **10. **\n",
        "\n",
        "\n"
      ],
      "metadata": {
        "id": "JADN6ulkG-KI"
      }
    },
    {
      "cell_type": "markdown",
      "source": [
        "[⬆️ Volver al inicio](#inicio)"
      ],
      "metadata": {
        "id": "HeCgHMU_iMjv"
      }
    },
    {
      "cell_type": "markdown",
      "source": [
        "<a name=\"T11\"></a>\n",
        "## **11. **\n"
      ],
      "metadata": {
        "id": "vYqKGYcJicuc"
      }
    },
    {
      "cell_type": "markdown",
      "source": [
        "[⬆️ Volver al inicio](#inicio)"
      ],
      "metadata": {
        "id": "86zQTBP_iang"
      }
    },
    {
      "cell_type": "markdown",
      "source": [
        "<a name=\"T12\"></a>\n",
        "## **12. **\n"
      ],
      "metadata": {
        "id": "HlPQqO4niMjw"
      }
    },
    {
      "cell_type": "markdown",
      "source": [
        "[⬆️ Volver al inicio](#inicio)"
      ],
      "metadata": {
        "id": "BfpZk8UGiMjx"
      }
    },
    {
      "cell_type": "markdown",
      "source": [
        "<a name=\"T13\"></a>\n",
        "## **13. **\n"
      ],
      "metadata": {
        "id": "MFVTb4hXiMjx"
      }
    },
    {
      "cell_type": "markdown",
      "source": [
        "[⬆️ Volver al inicio](#inicio)"
      ],
      "metadata": {
        "id": "elER8XvTiMjx"
      }
    },
    {
      "cell_type": "markdown",
      "source": [
        "<a name=\"T14\"></a>\n",
        "## **14. **\n"
      ],
      "metadata": {
        "id": "rcsiwiVBiMjx"
      }
    },
    {
      "cell_type": "markdown",
      "source": [
        "[⬆️ Volver al inicio](#inicio)"
      ],
      "metadata": {
        "id": "wz8yYPaxiMjy"
      }
    },
    {
      "cell_type": "markdown",
      "source": [
        "<a name=\"T1\"></a>\n",
        "## **15. **\n",
        "\n",
        "\n"
      ],
      "metadata": {
        "id": "WZZFaEQXiMjy"
      }
    },
    {
      "cell_type": "markdown",
      "source": [
        "[⬆️ Volver al inicio](#inicio)"
      ],
      "metadata": {
        "id": "-2ZZeqeFiMjy"
      }
    },
    {
      "cell_type": "markdown",
      "source": [
        "<a name=\"T16\"></a>\n",
        "## **16. **\n"
      ],
      "metadata": {
        "id": "_mlkFd-1iMjy"
      }
    },
    {
      "cell_type": "markdown",
      "source": [
        "[⬆️ Volver al inicio](#inicio)"
      ],
      "metadata": {
        "id": "7pML1drNiMjz"
      }
    },
    {
      "cell_type": "markdown",
      "source": [
        "<a name=\"T17\"></a>\n",
        "## **17. **\n",
        "\n",
        "\n"
      ],
      "metadata": {
        "id": "mkpW0c3jiMjz"
      }
    },
    {
      "cell_type": "markdown",
      "source": [
        "[⬆️ Volver al inicio](#inicio)"
      ],
      "metadata": {
        "id": "NQMvWtQciMjz"
      }
    },
    {
      "cell_type": "markdown",
      "source": [
        "<a name=\"T18\"></a>\n",
        "## **18. **\n"
      ],
      "metadata": {
        "id": "mLmlh9EniMjz"
      }
    },
    {
      "cell_type": "markdown",
      "source": [
        "[⬆️ Volver al inicio](#inicio)"
      ],
      "metadata": {
        "id": "sb5qZwQUiMjz"
      }
    },
    {
      "cell_type": "markdown",
      "source": [
        "<a name=\"T19\"></a>\n",
        "## **19. **\n"
      ],
      "metadata": {
        "id": "D_AZcvb5iMjz"
      }
    },
    {
      "cell_type": "markdown",
      "source": [
        "[⬆️ Volver al inicio](#inicio)"
      ],
      "metadata": {
        "id": "wPVvx9VJiMjz"
      }
    },
    {
      "cell_type": "markdown",
      "source": [
        "<a name=\"T20\"></a>\n",
        "## **20. **\n",
        "\n",
        "\n"
      ],
      "metadata": {
        "id": "LrEjwK9ViMjz"
      }
    },
    {
      "cell_type": "markdown",
      "source": [
        "[⬆️ Volver al inicio](#inicio)"
      ],
      "metadata": {
        "id": "UacfdhNTjegf"
      }
    },
    {
      "cell_type": "markdown",
      "source": [
        "<a name=\"T21\"></a>\n",
        "## **21. **\n"
      ],
      "metadata": {
        "id": "Uxx7IG6hjk7e"
      }
    },
    {
      "cell_type": "markdown",
      "source": [
        "[⬆️ Volver al inicio](#inicio)"
      ],
      "metadata": {
        "id": "VM_knDD0jvxd"
      }
    },
    {
      "cell_type": "markdown",
      "source": [
        "<a name=\"T22\"></a>\n",
        "## **22. **\n"
      ],
      "metadata": {
        "id": "Tcx4cCCcjegg"
      }
    },
    {
      "cell_type": "markdown",
      "source": [
        "[⬆️ Volver al inicio](#inicio)"
      ],
      "metadata": {
        "id": "feFK5Mpfjegg"
      }
    },
    {
      "cell_type": "markdown",
      "source": [
        "<a name=\"T23\"></a>\n",
        "## **23. **\n"
      ],
      "metadata": {
        "id": "96wEaGiZjegg"
      }
    },
    {
      "cell_type": "markdown",
      "source": [
        "[⬆️ Volver al inicio](#inicio)"
      ],
      "metadata": {
        "id": "PRmkYl-hjegg"
      }
    },
    {
      "cell_type": "markdown",
      "source": [
        "<a name=\"T24\"></a>\n",
        "## **24. **\n"
      ],
      "metadata": {
        "id": "WCiM3itZjegh"
      }
    },
    {
      "cell_type": "markdown",
      "source": [
        "[⬆️ Volver al inicio](#inicio)"
      ],
      "metadata": {
        "id": "j4nXjyqUjegh"
      }
    },
    {
      "cell_type": "markdown",
      "source": [
        "<a name=\"T25\"></a>\n",
        "## **25. **\n",
        "\n",
        "\n"
      ],
      "metadata": {
        "id": "fHtL_TrOjegh"
      }
    },
    {
      "cell_type": "markdown",
      "source": [
        "[⬆️ Volver al inicio](#inicio)"
      ],
      "metadata": {
        "id": "5KLcdgPwjegh"
      }
    },
    {
      "cell_type": "markdown",
      "source": [
        "<a name=\"T26\"></a>\n",
        "## **26. **\n"
      ],
      "metadata": {
        "id": "pu8lJIW5jegi"
      }
    },
    {
      "cell_type": "markdown",
      "source": [
        "[⬆️ Volver al inicio](#inicio)"
      ],
      "metadata": {
        "id": "2tm4lGx7jegi"
      }
    },
    {
      "cell_type": "markdown",
      "source": [
        "<a name=\"T27\"></a>\n",
        "## **27. **\n",
        "\n",
        "\n"
      ],
      "metadata": {
        "id": "2MSjOTx9jegi"
      }
    },
    {
      "cell_type": "markdown",
      "source": [
        "[⬆️ Volver al inicio](#inicio)"
      ],
      "metadata": {
        "id": "1wcM9Mz_jegi"
      }
    },
    {
      "cell_type": "markdown",
      "source": [
        "<a name=\"T28\"></a>\n",
        "## **28. **\n"
      ],
      "metadata": {
        "id": "BS8tgRnUjegi"
      }
    },
    {
      "cell_type": "markdown",
      "source": [
        "[⬆️ Volver al inicio](#inicio)"
      ],
      "metadata": {
        "id": "_-1bNeDSjegj"
      }
    },
    {
      "cell_type": "markdown",
      "source": [
        "<a name=\"T29\"></a>\n",
        "## **29. **\n"
      ],
      "metadata": {
        "id": "d00IthiYjegj"
      }
    },
    {
      "cell_type": "markdown",
      "source": [
        "[⬆️ Volver al inicio](#inicio)"
      ],
      "metadata": {
        "id": "SZi77QsUjegj"
      }
    },
    {
      "cell_type": "markdown",
      "source": [
        "<a name=\"T30\"></a>\n",
        "## **30. **\n",
        "\n",
        "\n"
      ],
      "metadata": {
        "id": "V6LyJF3Qjegj"
      }
    },
    {
      "cell_type": "markdown",
      "source": [
        "[⬆️ Volver al inicio](#inicio)"
      ],
      "metadata": {
        "id": "TOU2TJjSA8px"
      }
    },
    {
      "cell_type": "markdown",
      "source": [
        "\n",
        "## **ULTIMO**\n",
        "[⬆️ Volver al ULTIMO](#ULTIMO)"
      ],
      "metadata": {
        "id": "mcr4i8C9G_d1"
      }
    },
    {
      "cell_type": "markdown",
      "source": [
        "\n",
        "<a name=\"ULTIMO\"></a>"
      ],
      "metadata": {
        "id": "jzDnNkkWA1UC"
      }
    },
    {
      "cell_type": "markdown",
      "source": [
        "[⬆️ Volver al inicio](#inicio)\n",
        "\n",
        "ULTIMO"
      ],
      "metadata": {
        "id": "T7aVy4L48Cz7"
      }
    },
    {
      "cell_type": "markdown",
      "source": [],
      "metadata": {
        "id": "7WHVb9Lc5rso"
      }
    }
  ]
}